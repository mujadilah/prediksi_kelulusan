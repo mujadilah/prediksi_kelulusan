{
 "cells": [
  {
   "cell_type": "code",
   "execution_count": null,
   "metadata": {},
   "outputs": [],
   "source": [
    "import pandas as pd\n",
    "import matplotlib.pyplot as plt\n",
    "import seaborn as sns\n",
    "from sklearn.cluster import KMeans"
   ]
  },
  {
   "cell_type": "code",
   "execution_count": null,
   "metadata": {},
   "outputs": [],
   "source": [
    "data_mhs_if = pd.read_csv('data/data_mahasiswa_infor2020-2021.csv', sep=';')"
   ]
  },
  {
   "cell_type": "code",
   "execution_count": null,
   "metadata": {},
   "outputs": [],
   "source": [
    "data_mhs_if.loc[:, ['IPS1', 'IPS2', 'IPS3', 'IPS4', 'IPS5', 'IPS6', 'IPS7','TOTAL_IPK']] = data_mhs_if.loc[:, ['IPS1', 'IPS2', 'IPS3', 'IPS4', 'IPS5', 'IPS6', 'IPS7','TOTAL_IPK']].replace(',', '.', regex=True)\n",
    "data_mhs_if[['IPS1', 'IPS2', 'IPS3', 'IPS4', 'IPS5', 'IPS6', 'IPS7','TOTAL_IPK']] = data_mhs_if[['IPS1', 'IPS2', 'IPS3', 'IPS4', 'IPS5', 'IPS6', 'IPS7','TOTAL_IPK']].astype(float)"
   ]
  },
  {
   "cell_type": "code",
   "execution_count": null,
   "metadata": {},
   "outputs": [],
   "source": [
    "atribut_datamhs = ['total_sks','IPS1', 'IPS2', 'IPS3', 'IPS4', 'IPS5', 'IPS6', 'IPS7', 'TOTAL_IPK']\n",
    "data_atribut = data_mhs_if[atribut_datamhs]"
   ]
  },
  {
   "cell_type": "code",
   "execution_count": null,
   "metadata": {},
   "outputs": [],
   "source": [
    "from tabulate import tabulate\n",
    "metode_kmeans = KMeans(n_clusters=11,init='k-means++' ,random_state=0)\n",
    "\n",
    "if data_mhs_if['masa_studi'].values[0] == 4:\n",
    "    metode_kmeans.fit(data_atribut[['total_sks','IPS1', 'IPS2', 'IPS3','TOTAL_IPK']])\n",
    "elif data_mhs_if['masa_studi'].values[0] == 6:\n",
    "    metode_kmeans.fit(data_atribut[['total_sks','IPS1', 'IPS2', 'IPS3', 'IPS4', 'IPS5', 'IPS6', 'IPS7','TOTAL_IPK']])\n",
    "elif data_mhs_if['masa_studi'].values[0] in [8, 10]:\n",
    "    metode_kmeans.fit(data_atribut[['total_sks','IPS1', 'IPS2', 'IPS3', 'IPS4', 'IPS5', 'IPS6', 'IPS7','TOTAL_IPK']])\n",
    "else:\n",
    "    metode_kmeans.fit(data_atribut)\n",
    "\n",
    "data_mhs_if['Kluster'] = metode_kmeans.labels_\n",
    "\n",
    "jarak_data_ke_pusat = metode_kmeans.transform(data_atribut)\n",
    "\n",
    "print(\"Nilai Akhir Jarak Data Setiap Kluster:\")\n",
    "print(tabulate(jarak_data_ke_pusat, headers = [f'Cluster {i}'for i in range(11)] , tablefmt=\"fancy_grid\", showindex=\"always\"))"
   ]
  },
  {
   "cell_type": "code",
   "execution_count": null,
   "metadata": {},
   "outputs": [],
   "source": [
    "print(\"Nilai Centroid Kluster Akhir:\")\n",
    "print(tabulate(metode_kmeans.cluster_centers_, headers=data_atribut,tablefmt=\"fancy_grid\", showindex=True))"
   ]
  },
  {
   "cell_type": "code",
   "execution_count": null,
   "metadata": {},
   "outputs": [],
   "source": [
    "data_mhs_if[['Nama','Kluster']]"
   ]
  },
  {
   "cell_type": "code",
   "execution_count": null,
   "metadata": {},
   "outputs": [],
   "source": [
    "jml_iterasi = metode_kmeans.n_iter_\n",
    "print(f\"jumlah iterasi : {jml_iterasi}\")"
   ]
  },
  {
   "cell_type": "code",
   "execution_count": null,
   "metadata": {},
   "outputs": [],
   "source": [
    "print(\"Analisis Kluster Mahasiswa:\")\n",
    "for i in range(11):\n",
    "    print(f\"Kluster {i}:\")\n",
    "    Kluster_Data = data_mhs_if[data_mhs_if['Kluster'] == i]\n",
    "    print(f\"Jumlah Mahasiswa: {len(Kluster_Data)}\")\n",
    "    print(f\"Rata-rata Masa_Studi Mahasiswa: {Kluster_Data['masa_studi'].mean()}\")\n",
    "    print(f\"Rata-rata Total_SKS Mahasiswa: {Kluster_Data['total_sks'].mean()}\")\n",
    "    print(f\"Rata-rata IPS1 Mahasiswa: {Kluster_Data['IPS1'].mean()}\")\n",
    "    print(f\"Rata-rata IPS2 Mahasiswa: {Kluster_Data['IPS2'].mean()}\")\n",
    "    print(f\"Rata-rata IPS3 Mahasiswa: {Kluster_Data['IPS3'].mean()}\")\n",
    "    print(f\"Rata-rata IPS4 Mahasiswa: {Kluster_Data['IPS4'].mean()}\")\n",
    "    print(f\"Rata-rata IPS5 Mahasiswa: {Kluster_Data['IPS5'].mean()}\")\n",
    "    print(f\"Rata-rata IPS6 Mahasiswa: {Kluster_Data['IPS6'].mean()}\")\n",
    "    print(f\"Rata-rata IPS7 Mahasiswa: {Kluster_Data['IPS7'].mean()}\")\n",
    "    print(f\"Rata-rata TOTAL IPK Mahasiswa: {Kluster_Data['TOTAL_IPK'].mean()}\")\n",
    "    label = \"Lulus Tepat\" if i in [1,0] else \"Tidak Tepat\"\n",
    "    print(f\"Label: {label}\")\n",
    "    print()"
   ]
  },
  {
   "cell_type": "code",
   "execution_count": null,
   "metadata": {},
   "outputs": [],
   "source": [
    "data_mhs_if['label'] = data_mhs_if['Kluster'].map({1: 'Lulus Tepat',2: 'Tidak Tepat',3: 'Tidak Tepat',4: 'Tidak Tepat',5: 'Tidak Tepat',6: 'Tidak Tepat',7: 'Tidak Tepat',8: 'Tidak Tepat',9: 'Tidak Tepat',10: 'Tidak Tepat', 0: 'Lulus Tepat'})\n",
    "pd.set_option('display.max_rows', None)\n",
    "print(tabulate((data_mhs_if[['Nama','label']]), headers = data_mhs_if[['Nama','label']] , tablefmt=\"fancy_grid\"))"
   ]
  },
  {
   "cell_type": "code",
   "execution_count": null,
   "metadata": {},
   "outputs": [],
   "source": [
    "from sklearn.metrics import pairwise_distances\n",
    "jarak_kluster = pairwise_distances(metode_kmeans.cluster_centers_, metric='euclidean')\n",
    "print(\"Jarak Antara Kluster:\")\n",
    "print(tabulate(jarak_kluster, headers=[f'Kluster {i}' for i in range(11)], tablefmt=\"fancy_grid\", showindex = True))"
   ]
  },
  {
   "cell_type": "code",
   "execution_count": null,
   "metadata": {},
   "outputs": [],
   "source": [
    "jumlah_data_per_kluster = [len(data_mhs_if[data_mhs_if['Kluster'] == i]) for i in range(11)]\n",
    "label_kluster = [f'Kluster {i}' for i in range(11)]\n",
    "\n",
    "plt.figure(figsize=(8, 8))\n",
    "plt.pie(jumlah_data_per_kluster, labels=label_kluster, autopct='%1.1f%%', startangle=140)\n",
    "plt.title('Distribusi Data dalam Kluster')\n",
    "plt.show()\n"
   ]
  }
 ],
 "metadata": {
  "language_info": {
   "name": "python"
  },
  "orig_nbformat": 4
 },
 "nbformat": 4,
 "nbformat_minor": 2
}
